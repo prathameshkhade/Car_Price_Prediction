{
 "cells": [
  {
   "cell_type": "code",
   "execution_count": 134,
   "metadata": {},
   "outputs": [],
   "source": [
    "import pandas as pd\n",
    "import numpy as np\n",
    "import matplotlib.pyplot as plt\n",
    "from sklearn.ensemble import RandomForestRegressor\n",
    "# from sklearn.ensemble import GradientBoostingRegressor\n",
    "\n",
    "from sklearn.model_selection import train_test_split"
   ]
  },
  {
   "cell_type": "code",
   "execution_count": 135,
   "metadata": {},
   "outputs": [],
   "source": [
    "cars_data=pd.read_csv('Cardetails.csv')\n",
    "cars_data.drop(columns=[\"torque\"],inplace=True)\n",
    "# cars_data.shape  (8128,12)"
   ]
  },
  {
   "cell_type": "code",
   "execution_count": 136,
   "metadata": {},
   "outputs": [],
   "source": [
    "#Pre Pocessing of data\n",
    "# cars_data.isnull().sum()   #215\n",
    "cars_data.dropna(inplace=True)\n",
    "# cars_data.shape  #(7907, 12)\n",
    "cars_data.drop_duplicates(inplace=True)\n",
    "# cars_data.duplicated().sum()"
   ]
  },
  {
   "cell_type": "code",
   "execution_count": 137,
   "metadata": {},
   "outputs": [],
   "source": [
    "#Print the unique values for each colums\n",
    "# for col in cars_data.columns:\n",
    "#     print(\"The unique values in the column : \"+col)\n",
    "#     print(cars_data[col].unique())\n",
    "#     print(\"******************************************************************************\\n\\n\")"
   ]
  },
  {
   "cell_type": "code",
   "execution_count": 138,
   "metadata": {},
   "outputs": [
    {
     "name": "stdout",
     "output_type": "stream",
     "text": [
      "0        74\n",
      "1       103\n",
      "2        78\n",
      "3        90\n",
      "4        88\n",
      "       ... \n",
      "8121     67\n",
      "8122     88\n",
      "8123     82\n",
      "8124    110\n",
      "8125     73\n",
      "Name: max_power, Length: 6718, dtype: int64\n"
     ]
    }
   ],
   "source": [
    "#Extaracting useful data from the columns\n",
    "\n",
    "def get_first_string(firt_string):\n",
    "    firt_string=firt_string.split(' ')[0]\n",
    "    return firt_string.strip(' ')\n",
    "\n",
    "def get_first_value(value):\n",
    "    value = value.split(' ')[0]  # Get the first part of the string (up to the first space)\n",
    "    value = value.strip()  # Remove any extra whitespace\n",
    "    if value == '':\n",
    "        return 0\n",
    "    return int(float(value))\n",
    "\n",
    "cars_data['name']=cars_data['name'].apply(get_first_string)\n",
    "cars_data['mileage']=cars_data['mileage'].apply(get_first_value)\n",
    "cars_data['max_power']=cars_data['max_power'].apply(get_first_value)\n",
    "cars_data['engine']=cars_data['engine'].apply(get_first_value)\n",
    "cars_data['seats']=cars_data['seats'].convert_dtypes(int)\n",
    "\n",
    "# for col in cars_data.columns:\n",
    "#     print(\"The unique values in the column : \"+col)\n",
    "#     print(cars_data[col].unique())\n",
    "#     print(\"******************************************************************************\\n\\n\")\n",
    "\n",
    "print(cars_data['max_power'])\n"
   ]
  },
  {
   "cell_type": "code",
   "execution_count": 139,
   "metadata": {},
   "outputs": [
    {
     "name": "stderr",
     "output_type": "stream",
     "text": [
      "C:\\Users\\sidha\\AppData\\Local\\Temp\\ipykernel_11344\\420408878.py:10: FutureWarning: A value is trying to be set on a copy of a DataFrame or Series through chained assignment using an inplace method.\n",
      "The behavior will change in pandas 3.0. This inplace method will never work because the intermediate object on which we are setting values always behaves as a copy.\n",
      "\n",
      "For example, when doing 'df[col].method(value, inplace=True)', try using 'df.method({col: value}, inplace=True)' or df[col] = df[col].method(value) instead, to perform the operation inplace on the original object.\n",
      "\n",
      "\n",
      "  cars_data['name'].replace(cars_data['name'].unique(),arr,inplace=True)\n",
      "C:\\Users\\sidha\\AppData\\Local\\Temp\\ipykernel_11344\\420408878.py:10: FutureWarning: Downcasting behavior in `replace` is deprecated and will be removed in a future version. To retain the old behavior, explicitly call `result.infer_objects(copy=False)`. To opt-in to the future behavior, set `pd.set_option('future.no_silent_downcasting', True)`\n",
      "  cars_data['name'].replace(cars_data['name'].unique(),arr,inplace=True)\n",
      "C:\\Users\\sidha\\AppData\\Local\\Temp\\ipykernel_11344\\420408878.py:11: FutureWarning: A value is trying to be set on a copy of a DataFrame or Series through chained assignment using an inplace method.\n",
      "The behavior will change in pandas 3.0. This inplace method will never work because the intermediate object on which we are setting values always behaves as a copy.\n",
      "\n",
      "For example, when doing 'df[col].method(value, inplace=True)', try using 'df.method({col: value}, inplace=True)' or df[col] = df[col].method(value) instead, to perform the operation inplace on the original object.\n",
      "\n",
      "\n",
      "  cars_data['transmission'].replace(['Manual', 'Automatic'],[1,2],inplace=True)\n",
      "C:\\Users\\sidha\\AppData\\Local\\Temp\\ipykernel_11344\\420408878.py:11: FutureWarning: Downcasting behavior in `replace` is deprecated and will be removed in a future version. To retain the old behavior, explicitly call `result.infer_objects(copy=False)`. To opt-in to the future behavior, set `pd.set_option('future.no_silent_downcasting', True)`\n",
      "  cars_data['transmission'].replace(['Manual', 'Automatic'],[1,2],inplace=True)\n",
      "C:\\Users\\sidha\\AppData\\Local\\Temp\\ipykernel_11344\\420408878.py:12: FutureWarning: A value is trying to be set on a copy of a DataFrame or Series through chained assignment using an inplace method.\n",
      "The behavior will change in pandas 3.0. This inplace method will never work because the intermediate object on which we are setting values always behaves as a copy.\n",
      "\n",
      "For example, when doing 'df[col].method(value, inplace=True)', try using 'df.method({col: value}, inplace=True)' or df[col] = df[col].method(value) instead, to perform the operation inplace on the original object.\n",
      "\n",
      "\n",
      "  cars_data['seller_type'].replace(['Individual', 'Dealer', 'Trustmark Dealer'],[1,2,3],inplace=True)\n",
      "C:\\Users\\sidha\\AppData\\Local\\Temp\\ipykernel_11344\\420408878.py:12: FutureWarning: Downcasting behavior in `replace` is deprecated and will be removed in a future version. To retain the old behavior, explicitly call `result.infer_objects(copy=False)`. To opt-in to the future behavior, set `pd.set_option('future.no_silent_downcasting', True)`\n",
      "  cars_data['seller_type'].replace(['Individual', 'Dealer', 'Trustmark Dealer'],[1,2,3],inplace=True)\n",
      "C:\\Users\\sidha\\AppData\\Local\\Temp\\ipykernel_11344\\420408878.py:13: FutureWarning: A value is trying to be set on a copy of a DataFrame or Series through chained assignment using an inplace method.\n",
      "The behavior will change in pandas 3.0. This inplace method will never work because the intermediate object on which we are setting values always behaves as a copy.\n",
      "\n",
      "For example, when doing 'df[col].method(value, inplace=True)', try using 'df.method({col: value}, inplace=True)' or df[col] = df[col].method(value) instead, to perform the operation inplace on the original object.\n",
      "\n",
      "\n",
      "  cars_data['fuel'].replace(['Diesel', 'Petrol', 'LPG', 'CNG'],[1,2,3,4],inplace=True)\n",
      "C:\\Users\\sidha\\AppData\\Local\\Temp\\ipykernel_11344\\420408878.py:13: FutureWarning: Downcasting behavior in `replace` is deprecated and will be removed in a future version. To retain the old behavior, explicitly call `result.infer_objects(copy=False)`. To opt-in to the future behavior, set `pd.set_option('future.no_silent_downcasting', True)`\n",
      "  cars_data['fuel'].replace(['Diesel', 'Petrol', 'LPG', 'CNG'],[1,2,3,4],inplace=True)\n",
      "C:\\Users\\sidha\\AppData\\Local\\Temp\\ipykernel_11344\\420408878.py:14: FutureWarning: A value is trying to be set on a copy of a DataFrame or Series through chained assignment using an inplace method.\n",
      "The behavior will change in pandas 3.0. This inplace method will never work because the intermediate object on which we are setting values always behaves as a copy.\n",
      "\n",
      "For example, when doing 'df[col].method(value, inplace=True)', try using 'df.method({col: value}, inplace=True)' or df[col] = df[col].method(value) instead, to perform the operation inplace on the original object.\n",
      "\n",
      "\n",
      "  cars_data['owner'].replace(cars_data['owner'].unique(),[1,2,3,4,5],inplace=True)\n",
      "C:\\Users\\sidha\\AppData\\Local\\Temp\\ipykernel_11344\\420408878.py:14: FutureWarning: Downcasting behavior in `replace` is deprecated and will be removed in a future version. To retain the old behavior, explicitly call `result.infer_objects(copy=False)`. To opt-in to the future behavior, set `pd.set_option('future.no_silent_downcasting', True)`\n",
      "  cars_data['owner'].replace(cars_data['owner'].unique(),[1,2,3,4,5],inplace=True)\n"
     ]
    }
   ],
   "source": [
    "# Converting the categorical data colums into numeric data\n",
    "arr=np.arange(1,32)\n",
    "\n",
    "# cars_data['name'].replace(['Maruti', 'Skoda', 'Honda', 'Hyundai', 'Toyota', 'Ford', 'Renault',\n",
    "#        'Mahindra', 'Tata', 'Chevrolet', 'Datsun', 'Jeep', 'Mercedes-Benz',\n",
    "#        'Mitsubishi', 'Audi', 'Volkswagen', 'BMW', 'Nissan', 'Lexus',\n",
    "#        'Jaguar', 'Land', 'MG', 'Volvo', 'Daewoo', 'Kia', 'Fiat', 'Force',\n",
    "#        'Ambassador', 'Ashok', 'Isuzu', 'Opel'],arr,inplace=True)\n",
    "\n",
    "cars_data['name'].replace(cars_data['name'].unique(),arr,inplace=True)\n",
    "cars_data['transmission'].replace(['Manual', 'Automatic'],[1,2],inplace=True)\n",
    "cars_data['seller_type'].replace(['Individual', 'Dealer', 'Trustmark Dealer'],[1,2,3],inplace=True)\n",
    "cars_data['fuel'].replace(['Diesel', 'Petrol', 'LPG', 'CNG'],[1,2,3,4],inplace=True)\n",
    "cars_data['owner'].replace(cars_data['owner'].unique(),[1,2,3,4,5],inplace=True)"
   ]
  },
  {
   "cell_type": "code",
   "execution_count": 140,
   "metadata": {},
   "outputs": [],
   "source": [
    "#create input and output data-sets\n",
    "input_data=cars_data.drop(columns=['selling_price'])\n",
    "output_data=cars_data['selling_price']"
   ]
  },
  {
   "cell_type": "code",
   "execution_count": 141,
   "metadata": {},
   "outputs": [],
   "source": [
    "x_train,x_test,y_train,y_test=train_test_split(input_data,output_data,test_size=0.2,random_state=2) #2"
   ]
  },
  {
   "cell_type": "code",
   "execution_count": 142,
   "metadata": {},
   "outputs": [
    {
     "name": "stdout",
     "output_type": "stream",
     "text": [
      "0.9303384016798651\n"
     ]
    }
   ],
   "source": [
    "\n",
    "model=RandomForestRegressor()\n",
    "\n",
    "model.fit(x_train,y_train)\n",
    "print(model.score(x_test, y_test))\n"
   ]
  },
  {
   "cell_type": "code",
   "execution_count": 143,
   "metadata": {},
   "outputs": [
    {
     "name": "stdout",
     "output_type": "stream",
     "text": [
      "Maximum Year: 42\n",
      "Minimum Year: 0\n"
     ]
    }
   ],
   "source": [
    "\n",
    "# model=GradientBoostingRegressor()\n",
    "\n",
    "# model.fit(x_train,y_train)\n",
    "# print(model.score(x_test, y_test))\n",
    "# 0.9306627599579468\n",
    "max_year = cars_data['mileage'].max()\n",
    "min_year = cars_data['mileage'].min()\n",
    "\n",
    "print(f\"Maximum Year: {max_year}\")\n",
    "print(f\"Minimum Year: {min_year}\")"
   ]
  }
 ],
 "metadata": {
  "kernelspec": {
   "display_name": "Python 3",
   "language": "python",
   "name": "python3"
  },
  "language_info": {
   "codemirror_mode": {
    "name": "ipython",
    "version": 3
   },
   "file_extension": ".py",
   "mimetype": "text/x-python",
   "name": "python",
   "nbconvert_exporter": "python",
   "pygments_lexer": "ipython3",
   "version": "3.12.4"
  }
 },
 "nbformat": 4,
 "nbformat_minor": 2
}
