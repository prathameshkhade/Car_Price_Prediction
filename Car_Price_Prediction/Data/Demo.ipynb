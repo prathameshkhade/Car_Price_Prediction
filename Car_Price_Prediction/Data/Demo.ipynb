{
 "cells": [
  {
   "cell_type": "code",
   "execution_count": 2,
   "metadata": {},
   "outputs": [],
   "source": [
    "import pandas as pd\n",
    "import numpy as np\n",
    "import matplotlib.pyplot as plt\n",
    "from sklearn.ensemble import RandomForestRegressor\n",
    "# from sklearn.ensemble import GradientBoostingRegressor\n",
    "\n",
    "from sklearn.model_selection import train_test_split"
   ]
  },
  {
   "cell_type": "code",
   "execution_count": 3,
   "metadata": {},
   "outputs": [],
   "source": [
    "cars_data=pd.read_csv('Cardetails.csv')\n",
    "cars_data.drop(columns=[\"torque\"],inplace=True)\n",
    "# cars_data.shape  (8128,12)"
   ]
  },
  {
   "cell_type": "code",
   "execution_count": 4,
   "metadata": {},
   "outputs": [],
   "source": [
    "#Pre Pocessing of data\n",
    "# cars_data.isnull().sum()   #215\n",
    "cars_data.dropna(inplace=True)\n",
    "# cars_data.shape  #(7907, 12)\n",
    "cars_data.drop_duplicates(inplace=True)\n",
    "# cars_data.duplicated().sum()"
   ]
  },
  {
   "cell_type": "code",
   "execution_count": 5,
   "metadata": {},
   "outputs": [],
   "source": [
    "#Print the unique values for each colums\n",
    "# for col in cars_data.columns:\n",
    "#     print(\"The unique values in the column : \"+col)\n",
    "#     print(cars_data[col].unique())\n",
    "#     print(\"******************************************************************************\\n\\n\")"
   ]
  },
  {
   "cell_type": "code",
   "execution_count": 6,
   "metadata": {},
   "outputs": [],
   "source": [
    "#Extaracting useful data from the columns\n",
    "\n",
    "def get_first_string(firt_string):\n",
    "    firt_string=firt_string.split(' ')[0]\n",
    "    return firt_string.strip(' ')\n",
    "\n",
    "def get_first_value(value):\n",
    "    value=value.split(' ')[0]\n",
    "    value=value.strip()\n",
    "    if value=='':\n",
    "        value=0\n",
    "    return float(value)\n",
    "\n",
    "cars_data['name']=cars_data['name'].apply(get_first_string)\n",
    "cars_data['mileage']=cars_data['mileage'].apply(get_first_value)\n",
    "cars_data['max_power']=cars_data['max_power'].apply(get_first_value)\n",
    "cars_data['engine']=cars_data['engine'].apply(get_first_value)\n",
    "\n",
    "# for col in cars_data.columns:\n",
    "#     print(\"The unique values in the column : \"+col)\n",
    "#     print(cars_data[col].unique())\n",
    "#     print(\"******************************************************************************\\n\\n\")\n"
   ]
  },
  {
   "cell_type": "code",
   "execution_count": null,
   "metadata": {},
   "outputs": [],
   "source": [
    "# Converting the categorical data colums into numeric data\n",
    "arr=np.arange(1,32)\n",
    "\n",
    "# cars_data['name'].replace(['Maruti', 'Skoda', 'Honda', 'Hyundai', 'Toyota', 'Ford', 'Renault',\n",
    "#        'Mahindra', 'Tata', 'Chevrolet', 'Datsun', 'Jeep', 'Mercedes-Benz',\n",
    "#        'Mitsubishi', 'Audi', 'Volkswagen', 'BMW', 'Nissan', 'Lexus',\n",
    "#        'Jaguar', 'Land', 'MG', 'Volvo', 'Daewoo', 'Kia', 'Fiat', 'Force',\n",
    "#        'Ambassador', 'Ashok', 'Isuzu', 'Opel'],arr,inplace=True)\n",
    "\n",
    "cars_data['name'].replace(cars_data['name'].unique(),arr,inplace=True)\n",
    "cars_data['transmission'].replace(['Manual', 'Automatic'],[1,2],inplace=True)\n",
    "cars_data['seller_type'].replace(['Individual', 'Dealer', 'Trustmark Dealer'],[1,2,3],inplace=True)\n",
    "cars_data['fuel'].replace(['Diesel', 'Petrol', 'LPG', 'CNG'],[1,2,3,4],inplace=True)\n",
    "cars_data['owner'].replace(cars_data['owner'].unique(),[1,2,3,4,5],inplace=True)"
   ]
  },
  {
   "cell_type": "code",
   "execution_count": 8,
   "metadata": {},
   "outputs": [],
   "source": [
    "#create input and output data-sets\n",
    "input_data=cars_data.drop(columns=['selling_price'])\n",
    "output_data=cars_data['selling_price']"
   ]
  },
  {
   "cell_type": "code",
   "execution_count": 9,
   "metadata": {},
   "outputs": [],
   "source": [
    "x_train,x_test,y_train,y_test=train_test_split(input_data,output_data,test_size=0.2,random_state=2) #2"
   ]
  },
  {
   "cell_type": "code",
   "execution_count": 10,
   "metadata": {},
   "outputs": [
    {
     "name": "stdout",
     "output_type": "stream",
     "text": [
      "0.9327676177667372\n"
     ]
    }
   ],
   "source": [
    "\n",
    "model=RandomForestRegressor()\n",
    "\n",
    "model.fit(x_train,y_train)\n",
    "print(model.score(x_test, y_test))\n"
   ]
  },
  {
   "cell_type": "code",
   "execution_count": 20,
   "metadata": {},
   "outputs": [
    {
     "name": "stdout",
     "output_type": "stream",
     "text": [
      "Maximum Year: 42.0\n",
      "Minimum Year: 0.0\n"
     ]
    }
   ],
   "source": [
    "\n",
    "# model=GradientBoostingRegressor()\n",
    "\n",
    "# model.fit(x_train,y_train)\n",
    "# print(model.score(x_test, y_test))\n",
    "# 0.9306627599579468\n",
    "max_year = cars_data['mileage'].max()\n",
    "min_year = cars_data['mileage'].min()\n",
    "\n",
    "print(f\"Maximum Year: {max_year}\")\n",
    "print(f\"Minimum Year: {min_year}\")"
   ]
  }
 ],
 "metadata": {
  "kernelspec": {
   "display_name": "Python 3",
   "language": "python",
   "name": "python3"
  },
  "language_info": {
   "codemirror_mode": {
    "name": "ipython",
    "version": 3
   },
   "file_extension": ".py",
   "mimetype": "text/x-python",
   "name": "python",
   "nbconvert_exporter": "python",
   "pygments_lexer": "ipython3",
   "version": "3.12.4"
  }
 },
 "nbformat": 4,
 "nbformat_minor": 2
}
